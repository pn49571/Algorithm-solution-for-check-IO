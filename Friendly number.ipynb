{
 "cells": [
  {
   "cell_type": "code",
   "execution_count": 3,
   "metadata": {
    "collapsed": false
   },
   "outputs": [
    {
     "name": "stdout",
     "output_type": "stream",
     "text": [
      "10240.0\n"
     ]
    },
    {
     "data": {
      "text/plain": [
       "'10k'"
      ]
     },
     "execution_count": 3,
     "metadata": {},
     "output_type": "execute_result"
    }
   ],
   "source": [
    "def friendly_number(number, base=1000, decimals=0, suffix='',\n",
    "                    powers=['', 'k', 'M', 'G', 'T', 'P', 'E', 'Z', 'Y']):\n",
    "    \"\"\"\n",
    "    Format a number as friendly text, using common suffixes.\n",
    "    \"\"\"\n",
    "    main = float(number)\n",
    "    powerLength = len(powers)\n",
    "    i = 0\n",
    "    while abs(main) >= base and i < powerLength - 1:\n",
    "        print(main)\n",
    "        main /= base\n",
    "        i += 1\n",
    "    if decimals == 0:\n",
    "        main = int(main)\n",
    "    else:\n",
    "        main = round(main, decimals)\n",
    "    fmt = \"%.\"+str(decimals)+\"f\"+powers[i]+suffix\n",
    "    ret = fmt % main\n",
    "    return ret\n",
    "\n",
    "friendly_number(10240)"
   ]
  },
  {
   "cell_type": "code",
   "execution_count": null,
   "metadata": {
    "collapsed": true
   },
   "outputs": [],
   "source": []
  }
 ],
 "metadata": {
  "kernelspec": {
   "display_name": "Python 3",
   "language": "python",
   "name": "python3"
  },
  "language_info": {
   "codemirror_mode": {
    "name": "ipython",
    "version": 3
   },
   "file_extension": ".py",
   "mimetype": "text/x-python",
   "name": "python",
   "nbconvert_exporter": "python",
   "pygments_lexer": "ipython3",
   "version": "3.5.2"
  }
 },
 "nbformat": 4,
 "nbformat_minor": 1
}
