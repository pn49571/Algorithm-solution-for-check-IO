{
 "cells": [
  {
   "cell_type": "code",
   "execution_count": 13,
   "metadata": {
    "collapsed": false
   },
   "outputs": [
    {
     "name": "stdout",
     "output_type": "stream",
     "text": [
      "['P', 'a', 'g', 'g', 'i', 'm', 'm', 'n', 'o', 'r', 'r'] ['G', 'M', 'R', 'a', 'g', 'i', 'm', 'n', 'o', 'p', 'r']\n"
     ]
    },
    {
     "data": {
      "text/plain": [
       "True"
      ]
     },
     "execution_count": 13,
     "metadata": {},
     "output_type": "execute_result"
    }
   ],
   "source": [
    "def verify_anagrams(a,b):\n",
    "    a,b = a.replace(\" \", \"\"),b.replace(\" \", \"\")\n",
    "    return sorted(a.lower()) == sorted(b.lower())\n",
    " \n",
    "\n",
    "\n",
    "\n",
    "verify_anagrams(\"Programming\", \"Gram Ring Mop\")"
   ]
  },
  {
   "cell_type": "code",
   "execution_count": null,
   "metadata": {
    "collapsed": true
   },
   "outputs": [],
   "source": []
  }
 ],
 "metadata": {
  "kernelspec": {
   "display_name": "Python 3",
   "language": "python",
   "name": "python3"
  },
  "language_info": {
   "codemirror_mode": {
    "name": "ipython",
    "version": 3
   },
   "file_extension": ".py",
   "mimetype": "text/x-python",
   "name": "python",
   "nbconvert_exporter": "python",
   "pygments_lexer": "ipython3",
   "version": "3.5.2"
  }
 },
 "nbformat": 4,
 "nbformat_minor": 1
}
